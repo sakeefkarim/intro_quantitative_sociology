{
  "nbformat": 4,
  "nbformat_minor": 0,
  "metadata": {
    "colab": {
      "provenance": [],
      "toc_visible": true,
      "authorship_tag": "ABX9TyOlejpQAaQTBQ5gLOMbiXZm",
      "include_colab_link": true
    },
    "kernelspec": {
      "name": "python3",
      "display_name": "Python 3"
    },
    "language_info": {
      "name": "python"
    }
  },
  "cells": [
    {
      "cell_type": "markdown",
      "metadata": {
        "id": "view-in-github",
        "colab_type": "text"
      },
      "source": [
        "<a href=\"https://colab.research.google.com/github/sakeefkarim/intro_quantitative_sociology/blob/main/data/week%2012/SOCI269_Week_12.ipynb\" target=\"_parent\"><img src=\"https://colab.research.google.com/assets/colab-badge.svg\" alt=\"Open In Colab\"/></a>"
      ]
    },
    {
      "cell_type": "markdown",
      "source": [
        "<img src=\"https://collegeaim.org/wp-content/uploads/2021/09/Amherst.png\" alt=\"Amherst Logo\" width=\"200\"/>\n",
        "\n",
        "\n",
        "# An Introduction to Plotting in `Python` <img src=\"https://s3.dualstack.us-east-2.amazonaws.com/pythondotorg-assets/media/community/logos/python-logo-only.png\" alt=\"Python logo\" width=\"30\">\n",
        "\n",
        "[Sakeef M. Karim](https://www.sakeefkarim.com/)\n",
        "\n",
        "skarim@amherst.edu"
      ],
      "metadata": {
        "id": "MQ6ImfPNGUdQ"
      }
    },
    {
      "cell_type": "markdown",
      "source": [
        "## Setting the Stage\n",
        "\n",
        "This notebook provides a _high-level_ overview of how to generate basic charts—from scatterplots to heatmaps—using the [`seaborn`](https://seaborn.pydata.org/) and [`plotnine`](https://plotnine.readthedocs.io/en/stable/) libraries in Python. Along the way, we’ll be using methods from [`pandas`](https://pandas.pydata.org/), [`matplotlib`](https://matplotlib.org/) and cognate libraries to modify our data, customize our plotting aesthetics and export our visualizations.\n"
      ],
      "metadata": {
        "id": "tSkt406MGka7"
      }
    },
    {
      "cell_type": "markdown",
      "source": [
        "## Preliminaries\n",
        "\n",
        "Let's import a few *essential* libraries (e.g., `pandas` for data wrangling) and submodules (e.g., `seaborn.objects` from `seaborn`) to visualize data in `Python`."
      ],
      "metadata": {
        "id": "2Tyj5C_zG8Wb"
      }
    },
    {
      "cell_type": "code",
      "execution_count": null,
      "metadata": {
        "id": "tNjWD_Z0GQHW"
      },
      "outputs": [],
      "source": [
        "import scipy as sp\n",
        "import numpy as np\n",
        "import pandas as pd\n",
        "import matplotlib as mpl\n",
        "import matplotlib.pyplot as plt\n",
        "import plotnine as p9\n",
        "import seaborn as sns\n",
        "import seaborn.objects as so"
      ]
    },
    {
      "cell_type": "markdown",
      "source": [
        "Once again, we can _mount_ our Google Drive folders onto a Colab session to save plots, data sets and so on. To programmatically mount your Drive folder(s), run the following lines:"
      ],
      "metadata": {
        "id": "pWM2XcqeHZ2M"
      }
    },
    {
      "cell_type": "code",
      "source": [
        "from google.colab import drive\n",
        "drive.mount('/drive')"
      ],
      "metadata": {
        "id": "4h3q5MvVHchD"
      },
      "execution_count": null,
      "outputs": []
    },
    {
      "cell_type": "markdown",
      "source": [
        "## Data\n",
        "\n",
        "For this session, we'll be ***mostly*** playing around with data from [`palmerpenguins`](https://allisonhorst.github.io/palmerpenguins/)—a popular package for exploring, manipulating and visualizing data in `R`.\n",
        "\n",
        "We can import the `palmerpenguins` library into `Python` through a variety of channels. To make things easy, let's simply *install* the `Python` version of `palmerpenguins`:"
      ],
      "metadata": {
        "id": "xYWPf041HinZ"
      }
    },
    {
      "cell_type": "code",
      "source": [
        "# Note: `penguins` is automatically available via seaborn---but the *year* variable is missing\n",
        "# sns.load_dataset('penguins')\n",
        "\n",
        "!pip install palmerpenguins\n",
        "\n",
        "from palmerpenguins import load_penguins\n",
        "\n",
        "penguins = load_penguins()\n",
        "\n",
        "penguins.head()"
      ],
      "metadata": {
        "id": "blD8KUS4IErJ"
      },
      "execution_count": null,
      "outputs": []
    },
    {
      "cell_type": "markdown",
      "source": [
        "We will also draw on `gapminder` for a few examples. Once again, let's keep things simple by installing the `Python` version of the dataset."
      ],
      "metadata": {
        "id": "bw002ilMbnMr"
      }
    },
    {
      "cell_type": "code",
      "source": [
        "!pip install gapminder\n",
        "\n",
        "from gapminder import gapminder\n",
        "\n",
        "gapminder.head()"
      ],
      "metadata": {
        "id": "enIpLqa0b_Bq"
      },
      "execution_count": null,
      "outputs": []
    },
    {
      "cell_type": "markdown",
      "source": [
        "## Saving Plots\n",
        "\n",
        "To make matters easier, create a `Plots` subfolder within `/Colab Notebooks`. The code interspersed in the sections to follow assumes that you have a `/Colab Notebooks/Plots` subdirectory within Google Drive."
      ],
      "metadata": {
        "id": "WBXGFeCLLX8d"
      }
    },
    {
      "cell_type": "markdown",
      "source": [
        "# `plotnine`"
      ],
      "metadata": {
        "id": "aCdXuLBjKoHx"
      }
    },
    {
      "cell_type": "markdown",
      "source": [
        "The [`plotnine`](https://plotnine.readthedocs.io/en/stable/) library allows `Python` users to work with a bare-bones version of the `ggplot2` library. In lieu of providing exhaustive examples,<a name='cite_ref-1'></a>[<sup>[1]</sup>](#cite_note-1)  I'll  walk through some basic plotting options: i.e., scatterplots, barplots and line plots."
      ],
      "metadata": {
        "id": "kx35abdyKxNA"
      }
    },
    {
      "cell_type": "markdown",
      "source": [
        "## Scatterplots"
      ],
      "metadata": {
        "id": "DdjWHXhoZfiX"
      }
    },
    {
      "cell_type": "code",
      "source": [
        "from plotnine import *\n",
        "\n",
        "\n",
        "gg_p1 = (\n",
        "          ggplot(penguins, aes(x = 'body_mass_g', y = 'bill_length_mm', colour = 'species')) +\n",
        "          geom_point(size = 4, alpha = 0.5) +\n",
        "          theme_minimal() +\n",
        "          theme(legend_position = 'top',\n",
        "                axis_title = element_text(size = 12)) +\n",
        "          labs(x = 'Body Mass (g)', y = 'Bill Length (mm)', colour = '') +\n",
        "          scale_colour_brewer(type = 'qual', palette = 'Dark2')\n",
        "          )\n",
        "\n",
        "# Adding facets\n",
        "\n",
        "gg_p1 + facet_wrap('~year')\n",
        "\n",
        "# Saving\n",
        "\n",
        "ggsave(gg_p1, '/drive/My Drive/Colab Notebooks/Plots/ggplot_example.jpeg', dpi = 300)\n"
      ],
      "metadata": {
        "id": "DwaaFrLiK-xO"
      },
      "execution_count": null,
      "outputs": []
    },
    {
      "cell_type": "markdown",
      "source": [
        "## Barplots"
      ],
      "metadata": {
        "id": "Nqg9E1SmZljg"
      }
    },
    {
      "cell_type": "code",
      "source": [
        "penguins.dropna(inplace=True)\n",
        "\n",
        "penguins[\"sex\"] = penguins[\"sex\"].str.capitalize()\n",
        "\n",
        "(\n",
        "ggplot(penguins, aes(x = 'species', y = 'body_mass_g', fill = 'sex')) +\n",
        "geom_col(position = 'dodge', width = 0.5) +\n",
        "labs(x = '', y = 'Body Mass (kg)', fill = '') +\n",
        "coord_flip() +\n",
        "theme_bw() +\n",
        "facet_wrap('~year') +\n",
        "scale_fill_manual(values = ['lightseagreen', 'cornflowerblue'])\n",
        ")"
      ],
      "metadata": {
        "id": "Y7C5PK2pZlJe"
      },
      "execution_count": null,
      "outputs": []
    },
    {
      "cell_type": "markdown",
      "source": [
        "## Line Plots"
      ],
      "metadata": {
        "id": "LoB1L1O5bSeG"
      }
    },
    {
      "cell_type": "code",
      "source": [
        "gapminder_grouped = gapminder.groupby(['continent', 'year']).median(numeric_only = True).reset_index()\n",
        "\n",
        "(\n",
        "ggplot(gapminder_grouped, aes(x = 'year', y = 'lifeExp', colour = 'continent')) +\n",
        " geom_smooth(size = 2) +\n",
        " theme_minimal() +\n",
        " facet_wrap('~continent') +\n",
        " scale_x_continuous(breaks = range(1950, 2010, 20)) +\n",
        " theme(legend_position = 'none') +\n",
        " labs(x = '', y = 'Life Expectancy') +\n",
        " scale_colour_brewer(type = 'qual', palette = 'Dark2')\n",
        "\n",
        ")"
      ],
      "metadata": {
        "id": "rurZMtIqbXHi"
      },
      "execution_count": null,
      "outputs": []
    },
    {
      "cell_type": "markdown",
      "source": [
        "# `seaborn`"
      ],
      "metadata": {
        "id": "DToDwnHJdDda"
      }
    },
    {
      "cell_type": "markdown",
      "source": [
        "## Exploratory Visualizations\n",
        "\n",
        "We've seen this one already. The `pairplot` function from `seaborn` allows users to easily visualize pairwise associations between *all* the numeric variables in a data frame. This can be especially helpful for conducting [exploratory data analyses](https://www.datacamp.com/community/tutorials/exploratory-data-analysis-python)."
      ],
      "metadata": {
        "id": "5RkHjhWDdT4y"
      }
    },
    {
      "cell_type": "code",
      "source": [
        "# This unlocks seaborn's basic 'dark grid' theme:\n",
        "\n",
        "sns.set_theme()\n",
        "\n",
        "# Other seaborn themes: http://seaborn.pydata.org/tutorial/aesthetics.html#seaborn-figure-styles\n",
        "\n",
        "sns.pairplot(penguins)\n",
        "\n",
        "# The 'hue' parameter (for most seaborn functions) allows analysts to condition on a\n",
        "# variable of interest:\n",
        "\n",
        "# sns.pairplot(penguins, hue = 'island')\n",
        "\n",
        "sns.pairplot(penguins, hue = 'species')"
      ],
      "metadata": {
        "id": "ymKTVuMHdZH8"
      },
      "execution_count": null,
      "outputs": []
    },
    {
      "cell_type": "markdown",
      "source": [
        "## Basic Scatterplots\n",
        "\n",
        "As the cell below illustrates, we can use `matplotlib` functions in conjunction with `seaborn` to modify and export our visualizations."
      ],
      "metadata": {
        "id": "sf29GTSNdsrC"
      }
    },
    {
      "cell_type": "code",
      "source": [
        "mpl.style.use('fivethirtyeight')\n",
        "\n",
        "# Basic scatterplot\n",
        "\n",
        "p1 = sns.scatterplot(x = 'bill_depth_mm', y = 'bill_length_mm',\n",
        "                     hue = 'species',\n",
        "                     # For more seaborn palettes, see https://seaborn.pydata.org/tutorial/color_palettes.html.\n",
        "                     palette = 'pastel',\n",
        "                     # Size parameter:\n",
        "                     s = 60,\n",
        "                     # Transparency parameter:\n",
        "                     alpha = 0.8,\n",
        "                     data = penguins)\n",
        "\n",
        "p1.set_title('Bill Depth vs Bill Length for Different Penguin Species',\n",
        "             weight = 'bold')\n",
        "\n",
        "p1.set(xlabel='Bill Depth (mm)',\n",
        "       ylabel='Bill Length (mm)')\n",
        "\n",
        "\n",
        "plt.legend(loc='upper right',\n",
        "           # Two elements correspond to x and y coordinates:\n",
        "           bbox_to_anchor= (1.25, 1),\n",
        "           # Remove legend frame:\n",
        "           frameon=False,\n",
        "           borderaxespad=0)\n",
        "\n",
        "plt.show()\n",
        "\n",
        "plt.savefig('/drive/My Drive/Python/penguin_fig1.png',\n",
        "            dpi = 300,\n",
        "            # Making sure the image isn't cropped!\n",
        "            bbox_inches='tight')"
      ],
      "metadata": {
        "id": "neSoZFXodt6b"
      },
      "execution_count": null,
      "outputs": []
    },
    {
      "cell_type": "markdown",
      "source": [
        "**Optional**\n",
        "\n",
        "Below, you'll find supplemental code for modifying scales and formatting axis labels. To run the code, un-annotate the lines in the cell by removing the `#` sign."
      ],
      "metadata": {
        "id": "J4bFIBxhenVw"
      }
    },
    {
      "cell_type": "code",
      "source": [
        "# import matplotlib.pylab as pylab\n",
        "\n",
        "# params = {'legend.title_fontsize': '15',\n",
        "#           'legend.fontsize': 'medium',\n",
        "#           'axes.labelsize': 'large',\n",
        "#           'axes.titlesize': 'large',\n",
        "#           'xtick.labelsize': 'medium',\n",
        "#           'ytick.labelsize': 'medium'}\n",
        "\n",
        "# pylab.rcParams.update(params)\n",
        "\n",
        "# p1b = sns.scatterplot(x='bill_depth_mm', y='bill_length_mm', hue='island', data=penguins)\n",
        "\n",
        "# p1b.set_xscale('log')"
      ],
      "metadata": {
        "id": "MKUhgJnQes1T"
      },
      "execution_count": null,
      "outputs": []
    },
    {
      "cell_type": "markdown",
      "source": [
        "### Adding Regression Lines to Scatterplots\n",
        "\n",
        "The `lmplot` function can be used to visualize linear relationships between variables. It can also map _interactions_ or spotlight conditional relationships (i.e., heterogeneous treatment effects) using faceted grids."
      ],
      "metadata": {
        "id": "VBUBP4l-fRmN"
      }
    },
    {
      "cell_type": "code",
      "source": [
        "sns.set_theme()\n",
        "\n",
        "# Capitalizing sex in the data frame:\n",
        "\n",
        "penguins.sex = penguins.sex.str.capitalize()\n",
        "\n",
        "# Setting up the plot:\n",
        "\n",
        "p2 = sns.lmplot(x = 'bill_depth_mm',\n",
        "                y = 'bill_length_mm',\n",
        "                hue = 'species',\n",
        "                # Unlocks facets/conditional panels:\n",
        "                col = 'sex',\n",
        "                # Equivalent to scales = free_y in ggplot:\n",
        "                facet_kws = {'sharey':False},\n",
        "                data = penguins)\n",
        "\n",
        "# Removing the legend automatically generated via lmplot\n",
        "# (so we can use mpl functions to manipulate our legend instead):\n",
        "\n",
        "p2._legend.remove()\n",
        "\n",
        "# Removing the 'variable name =' text from facet panels:\n",
        "\n",
        "p2.set_titles('{col_name}')\n",
        "\n",
        "p2.set_axis_labels(x_var='Bill Depth (mm)',\n",
        "                   y_var='Bill Length (mm)',\n",
        "                   labelpad = 15)\n",
        "\n",
        "plt.legend(title='Species')\n",
        "\n",
        "plt.show()"
      ],
      "metadata": {
        "id": "oXkNB9cWfUfZ"
      },
      "execution_count": null,
      "outputs": []
    },
    {
      "cell_type": "markdown",
      "source": [
        "## Barplots\n",
        "\n",
        "In the example below, we'll generate a grouped horizontal barplot that maps variation in penguins' body mass _across_ species and illustrates how this variation ebbs and flows as a function of sex."
      ],
      "metadata": {
        "id": "Rq_9ixndgLnR"
      }
    },
    {
      "cell_type": "code",
      "source": [
        "sns.set(style='ticks', palette='Set2')\n",
        "\n",
        "# Generating array corresponding to desired (alphabetical) x-axis order:\n",
        "\n",
        "order_plot = penguins['species'].sort_values().unique()\n",
        "\n",
        "p3 = sns.barplot(x='body_mass_g', y='species',\n",
        "                 # To create a grouped bar plot:\n",
        "                 hue = 'sex',\n",
        "                 # Removing confidence intervals?\n",
        "                 errorbar = None,\n",
        "                 alpha = 0.9,\n",
        "                 hue_order = ['Female', 'Male'],\n",
        "                 order = order_plot,\n",
        "                 data=penguins)\n",
        "\n",
        "p3.set_xlabel('Body Mass (g)', labelpad = 15)\n",
        "\n",
        "p3.set_ylabel('',)\n",
        "\n",
        "plt.legend(loc='lower right',\n",
        "           bbox_to_anchor = (1.25, 0),\n",
        "           labelspacing = 0.8)"
      ],
      "metadata": {
        "id": "I4Ya_IfkgPmd"
      },
      "execution_count": null,
      "outputs": []
    },
    {
      "cell_type": "markdown",
      "source": [
        "## Boxplots\n",
        "\n",
        "Boxplots are can help us visualize distributions---specifically, by highlighting key summary statistics. Just as with barplots, manipulating your `x` and `y` arguments can help you iterate between vertical and horizontal (boxplot) representations of the same underlying data.\n"
      ],
      "metadata": {
        "id": "WYFL0bMHiCgN"
      }
    },
    {
      "cell_type": "code",
      "source": [
        "mpl.style.use('ggplot')\n",
        "\n",
        "# Changing our body mass measure to kg in lieu of g:\n",
        "\n",
        "penguins['body_mass_kg'] = penguins.body_mass_g/1000\n",
        "\n",
        "p4 = sns.boxplot(y='body_mass_kg', x='species', data=penguins,\n",
        "                 width=0.5,\n",
        "                 hue = 'sex',\n",
        "                 palette='Set2',\n",
        "                 order = order_plot)\n",
        "\n",
        "p4.set_xlabel('')\n",
        "\n",
        "p4.set_ylabel('Body Mass (kg)', labelpad = 15)\n",
        "\n",
        "plt.legend(title = '')\n",
        "           #oc=\"upper center\")"
      ],
      "metadata": {
        "id": "DczDR3uaiOvg"
      },
      "execution_count": null,
      "outputs": []
    },
    {
      "cell_type": "markdown",
      "source": [
        "## Other Ways to Plot Distributions"
      ],
      "metadata": {
        "id": "NiODq-cbjNI5"
      }
    },
    {
      "cell_type": "markdown",
      "source": [
        "### Violin Plots"
      ],
      "metadata": {
        "id": "FTFLN82rjbnc"
      }
    },
    {
      "cell_type": "code",
      "source": [
        "sns.set_theme()\n",
        "\n",
        "sns.violinplot(x='body_mass_kg', y='species', hue='sex',\n",
        "               split = True,\n",
        "               data=penguins)"
      ],
      "metadata": {
        "id": "C9XOSC21jdhp"
      },
      "execution_count": null,
      "outputs": []
    },
    {
      "cell_type": "markdown",
      "source": [
        "### Histograms"
      ],
      "metadata": {
        "id": "rvbghoddjj9T"
      }
    },
    {
      "cell_type": "code",
      "source": [
        "sns.set_theme(style = 'whitegrid')\n",
        "\n",
        "manual_cols = ['#3f1f69', '#0099bc', '#767481']\n",
        "\n",
        "sns.histplot(x='body_mass_kg',\n",
        "             hue = 'species',\n",
        "             hue_order = order_plot,\n",
        "             multiple = 'dodge',\n",
        "             binwidth=0.5,\n",
        "             palette = manual_cols,\n",
        "             linewidth=.05,\n",
        "             data = penguins)\n",
        "\n",
        "plt.gca().get_legend().set_title('')\n",
        "\n",
        "sns.displot(x= 'body_mass_kg',\n",
        "            hue='species',\n",
        "            kind='hist',\n",
        "            multiple='layer',\n",
        "            palette = manual_cols,\n",
        "            data = penguins)\n"
      ],
      "metadata": {
        "id": "mCbig0UtjnrF"
      },
      "execution_count": null,
      "outputs": []
    },
    {
      "cell_type": "markdown",
      "source": [
        "### Joint Plots"
      ],
      "metadata": {
        "id": "dGvsmv9DluPP"
      }
    },
    {
      "cell_type": "code",
      "source": [
        "mpl.style.use('fivethirtyeight')\n",
        "\n",
        "joint = (\n",
        "        sns.jointplot(x = 'body_mass_kg', y = 'bill_length_mm',\n",
        "                      hue = 'species',\n",
        "                      palette = manual_cols,\n",
        "                      s = 80,\n",
        "                      data = penguins)\n",
        "        .set_axis_labels(xlabel='Body Mass (kg)',\n",
        "                         ylabel='Bill Length (mm)',\n",
        "                         labelpad=15)\n",
        "        )\n",
        "\n",
        "\n",
        "plt.legend(title = '',\n",
        "           loc=\"lower right\",\n",
        "           bbox_to_anchor= (1.25, -0.25),\n",
        "           borderaxespad=0)"
      ],
      "metadata": {
        "id": "wUWo0CQfls6H"
      },
      "execution_count": null,
      "outputs": []
    },
    {
      "cell_type": "markdown",
      "source": [
        "### Density Plots\n",
        "\n"
      ],
      "metadata": {
        "id": "qLcQk4KImZ2b"
      }
    },
    {
      "cell_type": "code",
      "source": [
        "sns.set_theme()\n",
        "\n",
        "sns.displot(x= 'body_mass_kg',\n",
        "            hue='species',\n",
        "            #Kernel Density Estimate\n",
        "            kind='kde',\n",
        "            alpha = 0.5,\n",
        "            # multiple = 'fill',\n",
        "            fill = True,\n",
        "            palette = 'pastel',\n",
        "            data = penguins)\n"
      ],
      "metadata": {
        "id": "wk38xBu3mb-U"
      },
      "execution_count": null,
      "outputs": []
    },
    {
      "cell_type": "markdown",
      "source": [
        "## Visualizing Time-Varying Data\n",
        "\n",
        "While our `penguins` data frame _does_ have time-varying data, we're limited to three time points:\n"
      ],
      "metadata": {
        "id": "3qSQmWffm9dk"
      }
    },
    {
      "cell_type": "code",
      "source": [
        "# Share of observations by 'year':\n",
        "\n",
        "penguins['year'].value_counts(normalize=True)"
      ],
      "metadata": {
        "id": "0_xdww4YnDIl"
      },
      "execution_count": null,
      "outputs": []
    },
    {
      "cell_type": "markdown",
      "source": [
        "With this in mind, let's briefly return to `gapminder`."
      ],
      "metadata": {
        "id": "_xcq-XGpnO6e"
      }
    },
    {
      "cell_type": "markdown",
      "source": [
        "## Line Plots"
      ],
      "metadata": {
        "id": "y_IgCLGTnHIC"
      }
    },
    {
      "cell_type": "code",
      "source": [
        "# Removing Oceania (few observations):\n",
        "\n",
        "# gapminder['continent'].value_counts(normalize=True)\n",
        "\n",
        "gapminder = gapminder.query('continent != \"Oceania\"')\n",
        "\n",
        "# Ensuring that continents appear in alphabetical order:\n",
        "\n",
        "continent_order = np.sort(gapminder['continent'].unique())\n",
        "\n",
        "# Grouped line plot:\n",
        "\n",
        "sns.lineplot(x='year', y='lifeExp',\n",
        "             hue = 'continent',\n",
        "             hue_order = continent_order,\n",
        "             data = gapminder)\n",
        "\n",
        "plt.xlabel('Year', fontsize=13, labelpad = 15)\n",
        "\n",
        "plt.ylabel('Life Expectancy', fontsize=13, labelpad = 15)\n",
        "\n",
        "\n",
        "# Facets:\n",
        "\n",
        "p6 = sns.relplot(x='year', y='lifeExp',\n",
        "                 col='continent',\n",
        "                 col_order = continent_order,\n",
        "                 col_wrap = 2,\n",
        "                 kind='line',\n",
        "                 palette='Set2',\n",
        "                 color = '#AA336A',\n",
        "                 data = gapminder)\n",
        "\n",
        "p6.set_titles('{col_name}')"
      ],
      "metadata": {
        "id": "NaZZ7lfxnGya"
      },
      "execution_count": null,
      "outputs": []
    },
    {
      "cell_type": "markdown",
      "source": [
        "### Heatmaps\n",
        "\n",
        "To generate a heatmap in `seaborn`, let's modify our input data frame by:\n",
        "\n",
        "+ Isolating countries in the Americas.\n",
        "+ Isolating the following variables: `country`, `year` and `lifeExp`.\n",
        "+ Reshaping our data from long to wide using the `pivot` method."
      ],
      "metadata": {
        "id": "VC5DD_m7oDvu"
      }
    },
    {
      "cell_type": "code",
      "source": [
        "# Isolating countries in the Americas:\n",
        "\n",
        "gapminder_adj = gapminder.query('continent == \"Americas\"')\n",
        "\n",
        "# Zeroing-in on variables of interest:\n",
        "\n",
        "gapminder_adj = gapminder_adj[['country', 'year', 'lifeExp']]\n",
        "\n",
        "# Pivoting to wide format\n",
        "\n",
        "gapminder_adj = gapminder_adj.pivot(index = 'country', columns = 'year', values = 'lifeExp')\n",
        "\n",
        "gapminder_adj.head()\n",
        "\n",
        "gapminder_adj.reset_index().melt(id_vars='country',\n",
        "                                 var_name='year',\n",
        "                                 value_name='lifeExp')"
      ],
      "metadata": {
        "id": "h5BkMpNfoF83"
      },
      "execution_count": null,
      "outputs": []
    },
    {
      "cell_type": "markdown",
      "source": [
        "With these modifications in place, let's generate a quick heatmap that captures how life expectancy in the Americas has changed over time:"
      ],
      "metadata": {
        "id": "jOnDngP5o29d"
      }
    },
    {
      "cell_type": "code",
      "source": [
        "mpl.style.use('fivethirtyeight')\n",
        "\n",
        "p5 = sns.heatmap(gapminder_adj,\n",
        "                 linewidths =0.5,\n",
        "                 # Includes all y-tick labels:\n",
        "                 yticklabels=True,\n",
        "                 square=True,\n",
        "                 cbar_kws= {\"orientation\": \"horizontal\",\n",
        "                            \"shrink\": 0.2,\n",
        "                            \"aspect\": 10,\n",
        "                            \"pad\": 0.08})\n",
        "\n",
        "# Rotates x-axis labels (to enhance legibility):\n",
        "\n",
        "plt.xticks(rotation=30)\n",
        "\n",
        "p5.set(xlabel='',\n",
        "       ylabel='')\n",
        "\n",
        "p5.set_title('Life Expectancy in the Americas',\n",
        "             size = 18,\n",
        "             weight = 'bold',\n",
        "             pad = 15)\n",
        "\n",
        "# p5.collections[0].colorbar.set_label('Life Expectancy (Years)', size = 15, labelpad=10)\n",
        "\n",
        "# Changing the plot's dimensions:\n",
        "\n",
        "plt.gcf().set_size_inches(22, 12)\n",
        "\n",
        "plt.savefig('/drive/My Drive/Colab Notebooks/Plots/gapminder_heatmap.png',\n",
        "            bbox_inches='tight', dpi = 350)"
      ],
      "metadata": {
        "id": "7vvfF0hyo2ry"
      },
      "execution_count": null,
      "outputs": []
    }
  ]
}