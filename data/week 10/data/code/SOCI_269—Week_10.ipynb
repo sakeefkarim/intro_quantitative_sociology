{
  "nbformat": 4,
  "nbformat_minor": 0,
  "metadata": {
    "colab": {
      "provenance": [],
      "toc_visible": true,
      "authorship_tag": "ABX9TyOf0cFIRE9N0a5mmvldSB/0",
      "include_colab_link": true
    },
    "kernelspec": {
      "name": "python3",
      "display_name": "Python 3"
    },
    "language_info": {
      "name": "python"
    }
  },
  "cells": [
    {
      "cell_type": "markdown",
      "metadata": {
        "id": "view-in-github",
        "colab_type": "text"
      },
      "source": [
        "<a href=\"https://colab.research.google.com/github/sakeefkarim/intro_quantitative_sociology/blob/main/data/week%2010/data/code/SOCI_269%E2%80%94Week_10.ipynb\" target=\"_parent\"><img src=\"https://colab.research.google.com/assets/colab-badge.svg\" alt=\"Open In Colab\"/></a>"
      ]
    },
    {
      "cell_type": "markdown",
      "source": [
        "<img src=\"https://collegeaim.org/wp-content/uploads/2021/09/Amherst.png\" alt=\"Amherst Logo\" width=\"200\"/>\n",
        "\n",
        "# Cleaning and Data Analysis in `Python` <img src=\"https://s3.dualstack.us-east-2.amazonaws.com/pythondotorg-assets/media/community/logos/python-logo-only.png\" alt=\"Python logo\" width=\"30\">\n",
        "\n",
        "[Sakeef M. Karim](https://www.sakeefkarim.com/)  \n",
        "skarim@amherst.edu\n",
        "\n"
      ],
      "metadata": {
        "id": "oCOnjZz7P0oz"
      }
    },
    {
      "cell_type": "markdown",
      "source": [
        "## Preliminaries\n",
        "\n",
        "This notebook is designed to provide a basic introduction to select libraries in `Python` that are *essential* for data science—inclusive of [`pandas`](https://pandas.pydata.org/)  and [`polars`](https://pola.rs/) for data wrangling as well as [`seaborn`](https://seaborn.pydata.org/) for data visualization. More concretely, it will offer some basic code for (i) manipulating tabular data frames;  and (ii) visualizing descriptive statistics. However, this notebook **will not** provide an exhaustive overview of the affordances of `Python` for research in the social and behavioural sciences, nor will it get into the weeds of [`scikit-learn`](https://scikit-learn.org/stable/) or other machine learning libraries that `Python` is known for (fear not: we'll briefly discuss machine learning next week)."
      ],
      "metadata": {
        "id": "aONu-OMAQjpL"
      }
    },
    {
      "cell_type": "markdown",
      "source": [
        "## Loading Libraries\n",
        "\n",
        "To kick things off, let's load our essential libraries."
      ],
      "metadata": {
        "id": "BWK7jARURRvP"
      }
    },
    {
      "cell_type": "code",
      "source": [
        "# We use canonical naming conventions for our libraries and submodules:\n",
        "\n",
        "import scipy as sp\n",
        "import numpy as np\n",
        "# Our workhorse libraries for data manipulation\n",
        "import pandas as pd\n",
        "import polars as pl\n",
        "\n",
        "# If you're interested in fitting some parametric models ...\n",
        "\n",
        "import statsmodels.api as sm\n",
        "from statsmodels.formula.api import ols, logit\n",
        "\n",
        "# Our main data visualization libraries:\n",
        "\n",
        "import matplotlib as mpl\n",
        "import matplotlib.pyplot as plt\n",
        "import seaborn as sns\n",
        "\n",
        "# An experimental submodule that brings the \"grammar of graphics\" into seaborn:\n",
        "\n",
        "import seaborn.objects as so\n",
        "\n",
        "# An approximation of ggplot2 for Python:\n",
        "\n",
        "import plotnine as p9"
      ],
      "metadata": {
        "id": "JFuGYVdsQfcK"
      },
      "execution_count": null,
      "outputs": []
    },
    {
      "cell_type": "markdown",
      "source": [
        "### Note\n",
        "\n",
        "If you're using [Google Colab](https://colab.google/), you can \"mount\" your Google Drive folders onto a Colab session to save plots, data sets and so on. To programmatically mount your Drive folder(s), run the following lines:"
      ],
      "metadata": {
        "id": "qcQqXB1-Segj"
      }
    },
    {
      "cell_type": "code",
      "source": [
        "from google.colab import drive\n",
        "drive.mount('/drive')"
      ],
      "metadata": {
        "id": "elVwxrt3SgUu"
      },
      "execution_count": null,
      "outputs": []
    },
    {
      "cell_type": "markdown",
      "source": [
        "# Using `Pandas` for Data Wrangling"
      ],
      "metadata": {
        "id": "Qz8eb_O_UV3w"
      }
    },
    {
      "cell_type": "markdown",
      "source": [
        "## Loading Data\n",
        "\n",
        "To read in different _kinds_ of input data, we will use methods (i.e., functions) from the `pandas` library. For today's session, we will largely work with a dataset that we've already encountered —\n",
        " <a href=\"https://jennybc.github.io/gapminder/\" target=\"_blank\">gapminder</a>.\n",
        "\n"
      ],
      "metadata": {
        "id": "x5heuYW5SwES"
      }
    },
    {
      "cell_type": "markdown",
      "source": [
        " ### Note\n",
        "\n",
        " If you're using Jupyter _locally_, you will want to:\n",
        "\n",
        " 1. Clone/download our companion GitHub repository, <a href=\"https://github.com/sakeefkarim/intro_quantitative_sociology\" target=\"_blank\">`intro_quantitative_sociology`</a>.\n",
        "\n",
        " 2. _Change your working directory_ (via the command line) so that it points to the `intro_quantitative_sociology` folder you just cloned/downloaded.\n",
        "\n",
        "\n",
        " To implement Step 2, feel free to un-annotate the code snippet below and run the cell — but please **remember to adjust the code as needed** (i.e., to reflect where `intro_quantitative_sociology` is located on your machine)."
      ],
      "metadata": {
        "id": "lBKZ5tjUTNQ0"
      }
    },
    {
      "cell_type": "code",
      "source": [
        "# cd \"THE PATH TO ... /intro_quantitative_sociology\""
      ],
      "metadata": {
        "id": "ynTDXS-tTmXm"
      },
      "execution_count": null,
      "outputs": []
    },
    {
      "cell_type": "markdown",
      "source": [
        "### Excel and CSV Files"
      ],
      "metadata": {
        "id": "g9i_-en9T9pu"
      }
    },
    {
      "cell_type": "code",
      "source": [
        "# From the companion GitHub repository:\n",
        "\n",
        "gapminder = pd.read_excel(\"https://github.com/sakeefkarim/intro_quantitative_sociology/raw/refs/heads/main/data/week%2010/data/gapminder.xlsx\")\n",
        "\n",
        "gapminder_csv = pd.read_csv(\"https://github.com/sakeefkarim/intro_quantitative_sociology/raw/refs/heads/main/data/week%2010/data/gapminder.csv\")\n",
        "\n",
        "gapminder\n",
        "\n",
        "# If you have the intro_quantitative_sociology folder on your machine:\n",
        "\n",
        "# gapminder_excel = pd.read_excel(\"week 10/data/gapminder.xlsx\")\n",
        "\n",
        "# gapminder_csv = pd.read_csv(\"week 10/data/gapminder.csv\")"
      ],
      "metadata": {
        "id": "dTFtqmvIUEn0"
      },
      "execution_count": null,
      "outputs": []
    },
    {
      "cell_type": "markdown",
      "source": [
        "### Stata Files"
      ],
      "metadata": {
        "id": "wYYipY2dUgBJ"
      }
    },
    {
      "cell_type": "code",
      "source": [
        "# From the companion GitHub repository:\n",
        "\n",
        "gapminder_dta = pd.read_stata(\"https://github.com/sakeefkarim/intro_quantitative_sociology/raw/refs/heads/main/data/week%2010/data/gapminder.dta\")\n",
        "\n",
        "# If you have the intro_quantitative_sociology folder on your machine:\n",
        "\n",
        "# gapminder_dta = pd.read_stata(\"week 10/data/gapminder.dta\")"
      ],
      "metadata": {
        "id": "GovXVjYKUy-o"
      },
      "execution_count": null,
      "outputs": []
    },
    {
      "cell_type": "code",
      "source": [
        "# If you want to read in SPSS files, you may want to launch this notebook locally.\n",
        "\n",
        "# Then, make sure you have pyreadstat installed within your conda environment — say, by running\n",
        "\n",
        "# conda install pyreadstat\n",
        "\n",
        "# In your terminal. You can then run the code below:\n",
        "\n",
        "# gapminder_spss = pd.read_spss(\"week 10/data/gapminder.sav\")"
      ],
      "metadata": {
        "id": "NSmkElM7Vjpe"
      },
      "execution_count": null,
      "outputs": []
    },
    {
      "cell_type": "markdown",
      "source": [
        "## Exploring the Data"
      ],
      "metadata": {
        "id": "ax1BsMqAVn8N"
      }
    },
    {
      "cell_type": "code",
      "source": [
        "#  Let's use the \"head\" method to get more information\n",
        "\n",
        "gapminder.head()\n",
        "\n",
        "?gapminder.head"
      ],
      "metadata": {
        "id": "5fNTXY8kVuuU"
      },
      "execution_count": null,
      "outputs": []
    },
    {
      "cell_type": "markdown",
      "source": [
        "### Question\n",
        "\n",
        "How can we look at the first **ten** observations in `gapminder`?"
      ],
      "metadata": {
        "id": "LMyMu4ZJV6LJ"
      }
    },
    {
      "cell_type": "code",
      "source": [
        "# What if we want to take a peak at the last few observations in our dataset?\n",
        "\n",
        "gapminder.tail()"
      ],
      "metadata": {
        "id": "X4_YyG_bWCJ0"
      },
      "execution_count": null,
      "outputs": []
    },
    {
      "cell_type": "code",
      "source": [
        "# Dimensions of our data frame:\n",
        "\n",
        "gapminder.shape\n",
        "\n",
        "# List the columns/variables we have at our disposal:\n",
        "\n",
        "gapminder.columns\n",
        "\n",
        "# What *type* of variable is \"continent\"?\n",
        "\n",
        "print(gapminder['continent'].dtype)\n",
        "\n",
        "# Let's look at all the \"dtypes\":\n",
        "\n",
        "gapminder.dtypes"
      ],
      "metadata": {
        "id": "KrTQYCEDWGjE"
      },
      "execution_count": null,
      "outputs": []
    },
    {
      "cell_type": "markdown",
      "source": [
        "### Exploratory Visualizations\n",
        "\n",
        "Here's a very useful way to explore your data via `seaborn`. We'll be returning to `seaborn` at some point this semester."
      ],
      "metadata": {
        "id": "uz2tD5N5YAuX"
      }
    },
    {
      "cell_type": "code",
      "source": [
        "# This unlocks seaborn's basic 'dark grid' theme:\n",
        "\n",
        "sns.set_theme()\n",
        "\n",
        "# Other seaborn themes: http://seaborn.pydata.org/tutorial/aesthetics.html#seaborn-figure-styles\n",
        "\n",
        "sns.pairplot(gapminder)\n",
        "\n",
        "# The 'hue' parameter (for most seaborn functions) allows analysts to condition\n",
        "# on a variable of interest:\n",
        "\n",
        "sns.pairplot(gapminder, hue = 'continent')"
      ],
      "metadata": {
        "id": "NjNctEz-YGIt"
      },
      "execution_count": null,
      "outputs": []
    },
    {
      "cell_type": "markdown",
      "source": [
        "## Descriptive Statistics"
      ],
      "metadata": {
        "id": "Q2nNatrjYNjt"
      }
    },
    {
      "cell_type": "code",
      "source": [
        "# Basic Descriptives\n",
        "\n",
        "gapminder.describe()\n",
        "\n",
        "# Include non-numeric variables:\n",
        "\n",
        "gapminder.describe(include='all')\n",
        "\n",
        "# ONLY include non-numeric variables:\n",
        "\n",
        "gapminder.describe(include=['object'])\n",
        "\n",
        "# Calculate frequency of different continents in data set:\n",
        "\n",
        "gapminder.continent.value_counts(normalize=True)"
      ],
      "metadata": {
        "id": "fwDrJu2fYWFS"
      },
      "execution_count": null,
      "outputs": []
    },
    {
      "cell_type": "code",
      "source": [
        "# Mean of numeric variables for first 50 rows:\n",
        "\n",
        "gapminder.head(50).mean()\n",
        "\n",
        "# Getting out of scientific notation—will display two decimal places\n",
        "\n",
        "pd.set_option('display.float_format', '{:.2f}'.format)\n",
        "\n",
        "# Zeroing-in on numeric variables:\n",
        "\n",
        "gapminder.head(50).mean(numeric_only = True)\n",
        "\n",
        "gapminder.select_dtypes(exclude=['object']).head(50).mean()\n",
        "\n",
        "gapminder.select_dtypes(include=[np.number]).head(50).mean()\n",
        "\n",
        " #We can also store the subsetted dataframe as an object before applying the mean function:\n",
        "\n",
        "gapminder_50 = gapminder.select_dtypes(exclude=['object']).head(50)\n",
        "\n",
        "gapminder_50.mean(numeric_only = True)\n",
        "\n",
        "# Are these statistics informative at all? Hint: they're not! But why?\n",
        "\n",
        "# We'll produce more informative descriptives below — after we've touched on\n",
        "# filtering and reshaping."
      ],
      "metadata": {
        "id": "YZcssEqsY1j5"
      },
      "execution_count": null,
      "outputs": []
    },
    {
      "cell_type": "code",
      "source": [
        "# Group data by continent:\n",
        "\n",
        "gapminder_continent = gapminder.groupby('continent')\n",
        "\n",
        "gapminder_continent.mean(numeric_only = True)\n",
        "\n",
        "# Grouped averages for life expectancy:\n",
        "\n",
        "gapminder_continent[['lifeExp']].mean(numeric_only=True)\n",
        "\n",
        "# Grouped averages for life expectancy (descending):\n",
        "\n",
        "gapminder_continent[['lifeExp']].mean().sort_values(by = 'lifeExp', ascending=False)"
      ],
      "metadata": {
        "id": "z0E7uXvWZ5E_"
      },
      "execution_count": null,
      "outputs": []
    },
    {
      "cell_type": "markdown",
      "source": [
        "## Filtering Observations, Column Selection"
      ],
      "metadata": {
        "id": "UxkuJgtcafnV"
      }
    },
    {
      "cell_type": "code",
      "source": [
        "# Select column — life expectancy:\n",
        "\n",
        "gapminder['lifeExp']\n",
        "\n",
        "gapminder.lifeExp\n",
        "\n",
        "gapminder[['lifeExp']]\n",
        "\n",
        "# Selecting three columns: country, life expectancy, continent\n",
        "\n",
        "gapminder[['continent', 'country', 'lifeExp']]\n",
        "\n",
        "# What *kind* of variables are we dealing with?\n",
        "\n",
        "gapminder[['continent', 'country', 'lifeExp']].dtypes"
      ],
      "metadata": {
        "id": "j6TouxY6bkZK"
      },
      "execution_count": null,
      "outputs": []
    },
    {
      "cell_type": "code",
      "source": [
        "gapminder_select = gapminder.query(\"lifeExp >= 80\")\n",
        "\n",
        "# Dimensions (original data frame)\n",
        "\n",
        "print(gapminder.shape)\n",
        "\n",
        "# Dimensions (subsetted data frame)\n",
        "\n",
        "print(gapminder_select.shape)"
      ],
      "metadata": {
        "id": "P9MiZUOKbnTX"
      },
      "execution_count": null,
      "outputs": []
    },
    {
      "cell_type": "code",
      "source": [
        "gapminder_africa = gapminder.query(\"continent == 'Africa'\")\n",
        "\n",
        "# gapminder_africa.continent.drop_duplicates()\n",
        "\n",
        "gapminder_africa.head()\n",
        "\n",
        "gapminder_africa.reset_index(drop=True).head()"
      ],
      "metadata": {
        "id": "axR7LBs7bpkK"
      },
      "execution_count": null,
      "outputs": []
    },
    {
      "cell_type": "code",
      "source": [
        "# Subsetting rows based on *index label*:\n",
        "\n",
        "gapminder.loc[0:10]\n",
        "\n",
        "# Subsetting rows based on *integer position*:\n",
        "\n",
        "gapminder.iloc[0:10]"
      ],
      "metadata": {
        "id": "-XE6poDbcobl"
      },
      "execution_count": null,
      "outputs": []
    },
    {
      "cell_type": "code",
      "source": [
        "# First row, first column — pursuant to row/column position\n",
        "\n",
        "gapminder.iloc[0, 0]\n",
        "\n",
        "# Subset data frame based on labels:\n",
        "\n",
        "gapminder.loc[0, 'country']\n",
        "\n",
        "# Produce data frame based on row/column labels:\n",
        "\n",
        "gapminder.loc[[0], ['country']]\n",
        "\n",
        "# Produce data frame based on row/column positions:\n",
        "\n",
        "gapminder.iloc[[0], [0]]\n",
        "\n",
        "# Last row:\n",
        "\n",
        "gapminder.iloc[-1]\n",
        "\n",
        "# Last column:\n",
        "\n",
        "gapminder.iloc[:, [-1]]\n",
        "\n",
        "# First and sixth rows + second and fourth columns:\n",
        "\n",
        "gapminder.iloc[[0, 5], [1, 3]]\n",
        "\n",
        "gapminder.loc[[0, 5], gapminder.columns[[1, 3]]]"
      ],
      "metadata": {
        "id": "AwqC7aTpcruA"
      },
      "execution_count": null,
      "outputs": []
    },
    {
      "cell_type": "markdown",
      "source": [
        "## Cleaning (Recoding, New Variables *etc.*)"
      ],
      "metadata": {
        "id": "3E-z9uy9c-Pa"
      }
    },
    {
      "cell_type": "code",
      "source": [
        "# Let's zero-in on the latest year in the gapminder data set:\n",
        "\n",
        "gapminder_07 = gapminder.query(\"year == 2007 and continent != 'Oceania'\").reset_index(drop=True)\n",
        "\n",
        "# The year variable's no longer necessary! Let's drop it:\n",
        "\n",
        "gapminder_07.drop(columns='year',\n",
        "                  # The inplace parameter executes the command \"quietly\" — i.e.,\n",
        "                  # no output is displayed and the results do not have to be stored in a\n",
        "                  # new object:\n",
        "                  inplace = True)\n",
        "\n",
        "# Let's rename some columns\n",
        "\n",
        "gapminder_07.rename(columns={# Existing column name : new column name\n",
        "                   'gdpPercap':'gdp_pc',\n",
        "                   'lifeExp':'le'}, inplace=True)\n",
        "\n",
        "# For illustrative purposes, let's generate new variables that take the log of\n",
        "# per capita GDP/population:\n",
        "\n",
        "gapminder_07['ln_gdp'] = np.log(gapminder_07['gdp_pc'])\n",
        "\n",
        "gapminder_07['ln_pop'] = np.log(gapminder_07['pop'])\n",
        "\n",
        "# Discretizing population size and per capita GDP into new quintile measures:\n",
        "\n",
        "gapminder_07['pop_quintile'] = pd.qcut(gapminder_07['pop'], q = 5, labels=False) + 1\n",
        "\n",
        "gapminder_07['gdp_quintile'] = pd.qcut(gapminder_07['gdp_pc'], q = 5, labels=False) + 1\n",
        "\n",
        "# Using quintile measures to create crude binary indicators\n",
        "\n",
        "gapminder_07['size'] = np.where(gapminder_07['pop_quintile'] > 4, 'Large', 'Small or Medium')\n",
        "\n",
        "# gapminder_07['size'] = gapminder_07['size'].map({'Large': 1, 'Small or Medium': 0})\n",
        "\n",
        "gapminder_07['wealth'] = np.where(gapminder_07['gdp_quintile'] > 3, 'Top 2 Quintiles', 'Bottom 3 Quintiles')\n",
        "\n",
        "# Transforming quintile measures into categorical variables\n",
        "\n",
        "gapminder_07[['pop_quintile', 'gdp_quintile']] = gapminder_07[['pop_quintile', 'gdp_quintile']].astype('category')\n"
      ],
      "metadata": {
        "id": "He_e_5WidEZ-"
      },
      "execution_count": null,
      "outputs": []
    },
    {
      "cell_type": "markdown",
      "source": [
        "# Exercises\n",
        "\n",
        "### Work With the `penguins` Data Frame\n",
        "\n",
        "\n",
        "Now, it's your turn to wrangle (or \"pre-process\") data in `Python`. To do so, you'll be working with *another* dataset you've encountered before— i.e., the `penguins` data frame from the wonderful [`{palmerpenguins}`](https://allisonhorst.github.io/palmerpenguins/) package.\n",
        "\n",
        "You can access different versions of `penguins` via <a href=\"https://github.com/sakeefkarim/intro_quantitative_sociology/tree/main/data/week%2010/data\" target=\"_blank\">`intro_quantitative_sociology/week 10/data`</a>. For those of you who are new to `Python`, feel free to download some helpful cheat sheets from <a href=\"https://github.com/sakeefkarim/intro_quantitative_sociology/tree/main/data/week%2010/code/cheat%20sheets\" target=\"_blank\">`intro_quantitative_sociology/week 10/code/cheat sheets`</a>.\n",
        "\n",
        "### Tasks\n",
        "\n",
        "1. Load `penguins` into your `Jupyter Notebook`.\n",
        "\n",
        "2. What are the *dimensions* of the `penguins` data frame (e.g., rows and columns)?\n",
        "\n",
        "3. List all the columns in `penguins` and what *kinds* of variables they are.\n",
        "\n",
        "4. Show the first 10 rows in the dataset.\n",
        "\n",
        "5. Show the last 20 rows in the dataset.\n",
        "\n",
        "6. Visualize the bivariate relationships between all numeric variables in `penguins` — but make sure these visual summaries vary by the `species` variable.\n",
        "\n",
        "7. Generate basic descriptive statistics for all numeric variables.\n",
        "\n",
        "8. Generate basic descriptive statistics for all discrete variables.\n",
        "\n",
        "9. Isolate the first 35 observations in `penguins` and display the mean values associated with *all numeric variables* (for these 35 observations).\n",
        "\n",
        "10. Show the mean value for `bill_length_mm` at different levels of `species` (more concretely, produce grouped averages for different penguins species). Sort the rows by descending (mean) values of `bill_length_mm`.\n",
        "\n",
        "11. Create a new data frame that:\n",
        "\n",
        "  + Only includes data from the latest `year` in `penguins`.\n",
        "  + Resets the index value for each observation.\n",
        "  + Removes the `year` variable.\n",
        "\n",
        "12. Show the rows corresponding to index values of `0` and `21` in your new data frame.\n",
        "\n",
        "13. Show the 10th and 20th observation in your new data frame.\n",
        "\n",
        "14. Rename at least two of the variables in your new data frame; store the results.\n",
        "\n",
        "15. Using your custom data frame, generate new numeric and discrete variables; once again, store the results.\n"
      ],
      "metadata": {
        "id": "MEkMt0f6di-g"
      }
    }
  ]
}