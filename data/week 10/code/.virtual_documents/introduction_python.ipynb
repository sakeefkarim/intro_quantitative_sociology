











# We use canonical naming conventions for our libraries and submodules:

import scipy as sp
import numpy as np
import pandas as pd
import matplotlib as mpl
import matplotlib.pyplot as plt
import seaborn as sns
import statsmodels.api as sm

from statsmodels.formula.api import ols, logit

# An experimental submodule that brings the "grammar of graphics" into seaborn:

import seaborn.objects as so





from google.colab import drive
drive.mount('/drive')








cd '/Users/sakeefkarim/Dropbox/0_CAnD3/2023-2024/Python/intro.python.24'





# From the companion GitHub repository:

# gapminder_excel = pd.read_excel("https://github.com/sakeefkarim/intro.python.24/raw/main/data/gapminder.xlsx")

# gapminder_csv = pd.read_csv("https://github.com/sakeefkarim/intro.python.24/raw/main/data/gapminder.csv")

# If you have the intro.python.24 folder on your machine:

gapminder_excel = pd.read_excel("data/gapminder.xlsx")

gapminder_excel

# gapminder_csv = pd.read_csv("data/gapminder.csv")






# From the companion GitHub repository:

gapminder_dta = pd.read_stata("https://github.com/sakeefkarim/intro.python.24/raw/main/data/gapminder.dta")

# If you have the intro.python.24 folder on your machine:

# gapminder_dta = pd.read_stata("data/gapminder.dta")






# If you want to read in SPSS files, you may want to launch this notebook locally.

# Then, make sure you have pyreadstat installed within your conda environment — say, by running

# conda install pyreadstat

# In your terminal. You can then run the code below:

# gapminder_spss = pd.read_spss("data/gapminder.sav")






# In Google Colab:

!pip install pyreadr

# Locally, install pyreadr within your conda environment — e.g.,:

# conda install pyreadr


# Here, the alias is idiosyncratic (no canonical conventions for pyreadr)

import pyreadr as pyr

# Loading R files from GitHub

rds_url = "https://github.com/sakeefkarim/intro.python.24/raw/main/data/gapminder.rds"

destination = '/drive/My Drive/Colab/gapminder.rds'

pyr.download_file(rds_url, destination)

gapminder_r = pyr.read_r(destination)

# Checking to see which objects are available:

print(gapminder_r.keys())

# Only none, ergo:

gapminder_rds = gapminder_r[None]

# Importing R files locally:

# gapminder_r = pyr.read_r("data/gapminder.rds")

# gapminder_rds = gapminder_r[None]








# For simplicity's sake, let's call our data frame of interest "gapminder"

gapminder = gapminder_excel

# Now, we'll use the "head" method to get more information

gapminder.head()

#?gapminder.head





# What if we want to take a peak at the last few observations in our dataset?

gapminder.tail()


# Dimensions of our data frame:

gapminder.shape

# List the columns/variables we have at our disposal:

gapminder.columns

# What *type* of variable is "continent"?

gapminder['continent'].dtype

# Let's look at all the "dtypes":

print(gapminder.dtypes)





# This unlocks seaborn's basic 'dark grid' theme:

sns.set_theme()

# Other seaborn themes: http://seaborn.pydata.org/tutorial/aesthetics.html#seaborn-figure-styles

sns.pairplot(gapminder)

# The 'hue' parameter (for most seaborn functions) allows analysts to condition on a
# variable of interest:

sns.pairplot(gapminder, hue = 'continent')





# Basic Descriptives

gapminder.describe()

# Include non-numeric variables:

gapminder.describe(include='all')

# ONLY include non-numeric variables:

gapminder.describe(exclude=[np.number])

# OR:

gapminder.describe(include=['object'])

# Calculate frequency of different continents in data set:

gapminder['continent'].value_counts(normalize=True)


# Mean of numeric variables for first 50 rows:

gapminder.head(50).mean()

# Zeroing-in on numeric variables:

gapminder.head(50).mean(numeric_only = True)

gapminder.select_dtypes(exclude=['object']).head(50).mean()

gapminder.select_dtypes(include=[np.number]).head(50).mean()

 #We can also store the subsetted dataframe as an object before applying the mean function:

gapminder_50 = gapminder.select_dtypes(exclude=['object']).head(50)

gapminder_50.mean(numeric_only = True)

# Are these statistics informative at all? Hint: they're not! But why?

# We'll produce more informative descriptives below — after we've touched on
# filtering and reshaping.


# Group data by continent:

gapminder_continent = gapminder.groupby(['continent'])

gapminder_continent.mean(numeric_only = True)

# Grouped averages for life expectancy:

gapminder_continent[['lifeExp']].mean(numeric_only=True)

# Grouped averages for life expectancy (descending):

gapminder_continent[['lifeExp']].mean().sort_values(by = 'lifeExp', ascending=False)





# Select column — life expectancy:

gapminder['lifeExp']

gapminder.lifeExp

gapminder[['lifeExp']]

# Selecting three columns: country, life expectancy, continent

gapminder[['continent', 'country', 'lifeExp']]

# What *kind* of variables are we dealing with?

gapminder[['continent', 'country', 'lifeExp']].dtypes


gapminder_select = gapminder[ gapminder['lifeExp'] >= 80 ]

# Dimensions (original data frame)

print(gapminder.shape)

# Dimensions (subsetted data frame)

print(gapminder_select.shape)


gapminder_asia = gapminder[ gapminder['continent'] == 'Africa']

gapminder_asia.head()

gapminder_asia.reset_index(drop=False).head()


# Subsetting rows based on *index label*:

gapminder.loc[0:10]

# Subsetting rows based on *integer position*:

gapminder.iloc[0:10]


# First row, first column — pursuant to row/column position

gapminder.iloc[0, 0]

# Subset data frame based on labels:

gapminder.loc[0, 'country']

# Produce data frame based on row/column labels:

gapminder.loc[0:, ['country']]

# Produce data frame based on row/column positions:

gapminder.iloc[0:, [0]]


# Last row:

gapminder.iloc[-1]

# Last column:

gapminder.iloc[:, [-1]]

# First and sixth rows + second and fourth columns:

gapminder.iloc[[0, 5], [1, 3]]





# Let's zero-in on the latest year in the gapminder data set:

gapminder_07 = gapminder.query("year == 2007 and continent != 'Oceania'").reset_index(drop=True)

# The year variable's no longer necessary! Let's drop it:

gapminder_07.drop(columns='year',
                  # The inplace parameter executes the command "quietly" — i.e.,
                  # no output is displayed and the results do not have to be stored in a
                  # new object:
                  inplace = True)

# Let's rename some columns

gapminder_07.rename(columns={# Existing column name : new column name
                   'gdpPercap':'gdp_pc',
                   'lifeExp':'le'}, inplace=True)

# For illustrative purposes, let's generate new variables that take the log of
# per capita GDP/population:

gapminder_07['ln_gdp'] = np.log(gapminder_07['gdp_pc'])

gapminder_07['ln_pop'] = np.log(gapminder_07['pop'])

# Discretizing population size and per capita GDP into new quintile measures:

gapminder_07['pop_quintile'] = pd.qcut(gapminder_07['pop'], q = 5, labels=False) + 1

gapminder_07['gdp_quintile'] = pd.qcut(gapminder_07['gdp_pc'], q = 5, labels=False) + 1

# Using quintile measures to create crude binary indicators

gapminder_07['size'] = np.where(gapminder_07['pop_quintile'] > 4, 'Large', 'Small or Medium')

# gapminder_07['size'] = gapminder_07['size'].map({'Large': 1, 'Small or Medium': 0})

gapminder_07['wealth'] = np.where(gapminder_07['gdp_quintile'] > 3, 'Top 2 Quintiles', 'Bottom 3 Quintiles')

# Transforming quintile measures into categorical variables

gapminder_07[['pop_quintile', 'gdp_quintile']] = gapminder_07[['pop_quintile', 'gdp_quintile']].astype('category')






mod_gapminder_1 = ols("le ~ ln_pop + ln_gdp + continent", data=gapminder_07).fit()

# Text

mod_gapminder_1.summary()

# LaTeX Code

mod_gapminder_1.summary().as_latex()

# CSV

mod_gapminder_1.summary().as_csv()

# Zooming in on parameters

print(mod_gapminder_1.summary().tables[1])

# Save results as an Excel file

mod1_results = mod_gapminder_1.summary().tables[1]

pd.DataFrame(mod1_results).to_excel('/drive/My Drive/Colab/mod1_results.xlsx')



mod_gapminder_2 = ols("le ~ ln_pop + ln_gdp * continent", data=gapminder_07).fit()

# Zooming in on parameters

print(mod_gapminder_2.summary().tables[1])


gapminder_07['size'] = gapminder_07['size'].map({'Large': 1, 'Small or Medium': 0})


mod_gapminder_3 = logit("size ~ ln_gdp + le", data=gapminder_07).fit()


print(mod_gapminder_3.summary().tables[1])









